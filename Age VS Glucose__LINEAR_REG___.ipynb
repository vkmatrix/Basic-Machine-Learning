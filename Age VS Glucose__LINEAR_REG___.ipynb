{
 "cells": [
  {
   "cell_type": "markdown",
   "id": "1f93135e",
   "metadata": {},
   "source": [
    "# Linear Regression  (Prediction of Glucose Levels using AGE)"
   ]
  },
  {
   "cell_type": "code",
   "execution_count": 1,
   "id": "9d4f0615",
   "metadata": {},
   "outputs": [],
   "source": [
    "import numpy as np\n",
    "import pandas as pd\n",
    "import matplotlib.pyplot as plt\n",
    "from sklearn import linear_model"
   ]
  },
  {
   "cell_type": "code",
   "execution_count": 3,
   "id": "27e6c173",
   "metadata": {},
   "outputs": [
    {
     "data": {
      "text/html": [
       "<div>\n",
       "<style scoped>\n",
       "    .dataframe tbody tr th:only-of-type {\n",
       "        vertical-align: middle;\n",
       "    }\n",
       "\n",
       "    .dataframe tbody tr th {\n",
       "        vertical-align: top;\n",
       "    }\n",
       "\n",
       "    .dataframe thead th {\n",
       "        text-align: right;\n",
       "    }\n",
       "</style>\n",
       "<table border=\"1\" class=\"dataframe\">\n",
       "  <thead>\n",
       "    <tr style=\"text-align: right;\">\n",
       "      <th></th>\n",
       "      <th>subject</th>\n",
       "      <th>age</th>\n",
       "      <th>glucose_level</th>\n",
       "    </tr>\n",
       "  </thead>\n",
       "  <tbody>\n",
       "    <tr>\n",
       "      <th>0</th>\n",
       "      <td>1</td>\n",
       "      <td>43</td>\n",
       "      <td>99</td>\n",
       "    </tr>\n",
       "    <tr>\n",
       "      <th>1</th>\n",
       "      <td>2</td>\n",
       "      <td>21</td>\n",
       "      <td>65</td>\n",
       "    </tr>\n",
       "    <tr>\n",
       "      <th>2</th>\n",
       "      <td>3</td>\n",
       "      <td>25</td>\n",
       "      <td>79</td>\n",
       "    </tr>\n",
       "    <tr>\n",
       "      <th>3</th>\n",
       "      <td>4</td>\n",
       "      <td>42</td>\n",
       "      <td>75</td>\n",
       "    </tr>\n",
       "    <tr>\n",
       "      <th>4</th>\n",
       "      <td>5</td>\n",
       "      <td>57</td>\n",
       "      <td>87</td>\n",
       "    </tr>\n",
       "    <tr>\n",
       "      <th>5</th>\n",
       "      <td>6</td>\n",
       "      <td>59</td>\n",
       "      <td>81</td>\n",
       "    </tr>\n",
       "  </tbody>\n",
       "</table>\n",
       "</div>"
      ],
      "text/plain": [
       "   subject  age  glucose_level\n",
       "0        1   43             99\n",
       "1        2   21             65\n",
       "2        3   25             79\n",
       "3        4   42             75\n",
       "4        5   57             87\n",
       "5        6   59             81"
      ]
     },
     "execution_count": 3,
     "metadata": {},
     "output_type": "execute_result"
    }
   ],
   "source": [
    "df=pd.read_csv('glucose_level(lin_reg).csv')\n",
    "df"
   ]
  },
  {
   "cell_type": "markdown",
   "id": "c160ce40",
   "metadata": {},
   "source": [
    "SIMPLE SCATTER PLOT"
   ]
  },
  {
   "cell_type": "code",
   "execution_count": 5,
   "id": "42b30f6c",
   "metadata": {},
   "outputs": [
    {
     "data": {
      "image/png": "[encoded data removed]",
      "text/plain": [
       "<Figure size 432x288 with 1 Axes>"
      ]
     },
     "metadata": {
      "needs_background": "light"
     },
     "output_type": "display_data"
    }
   ],
   "source": [
    "df.plot(kind='scatter',x='age',y='glucose_level');"
   ]
  },
  {
   "cell_type": "code",
   "execution_count": 6,
   "id": "8aa29167",
   "metadata": {},
   "outputs": [],
   "source": [
    "#changing the variables to dataframes"
   ]
  },
  {
   "cell_type": "code",
   "execution_count": 22,
   "id": "5aca3305",
   "metadata": {},
   "outputs": [],
   "source": [
    "x=pd.DataFrame(df['age'])\n",
    "y=pd.DataFrame(df['glucose_level'])"
   ]
  },
  {
   "cell_type": "code",
   "execution_count": 23,
   "id": "5b2fee68",
   "metadata": {},
   "outputs": [],
   "source": [
    "#building a linear regression model\n",
    "lm=linear_model.LinearRegression()\n",
    "model=lm.fit(x,y)\n"
   ]
  },
  {
   "cell_type": "code",
   "execution_count": 24,
   "id": "50f71226",
   "metadata": {},
   "outputs": [
    {
     "data": {
      "text/plain": [
       "array([[0.38522498]])"
      ]
     },
     "execution_count": 24,
     "metadata": {},
     "output_type": "execute_result"
    }
   ],
   "source": [
    "model.coef_   #slope of the linear regression model"
   ]
  },
  {
   "cell_type": "code",
   "execution_count": 25,
   "id": "42ea1ae2",
   "metadata": {},
   "outputs": [
    {
     "data": {
      "text/plain": [
       "array([65.14157152])"
      ]
     },
     "execution_count": 25,
     "metadata": {},
     "output_type": "execute_result"
    }
   ],
   "source": [
    "model.intercept_  # intercept of linear regression model"
   ]
  },
  {
   "cell_type": "code",
   "execution_count": 26,
   "id": "f684a5fd",
   "metadata": {},
   "outputs": [
    {
     "data": {
      "text/plain": [
       "0.2806974725220722"
      ]
     },
     "execution_count": 26,
     "metadata": {},
     "output_type": "execute_result"
    }
   ],
   "source": [
    "model.score(x,y)   #evaluation of the model"
   ]
  },
  {
   "cell_type": "raw",
   "id": "9a2b013d",
   "metadata": {},
   "source": [
    "*********CHECKING THE MODEL****************"
   ]
  },
  {
   "cell_type": "code",
   "execution_count": 30,
   "id": "d295e24b",
   "metadata": {},
   "outputs": [
    {
     "name": "stdout",
     "output_type": "stream",
     "text": [
      "enter age to predict glucose levels:55\n",
      "the predicted value for age  55  is  [[86.3289456]]\n"
     ]
    },
    {
     "name": "stderr",
     "output_type": "stream",
     "text": [
      "C:\\Users\\VK\\anaconda3\\lib\\site-packages\\sklearn\\base.py:450: UserWarning: X does not have valid feature names, but LinearRegression was fitted with feature names\n",
      "  warnings.warn(\n"
     ]
    }
   ],
   "source": [
    "#final prediction\n",
    "x_value=int(input(\"enter age to predict glucose levels:\"))\n",
    "y_value=model.predict([[x_value]])\n",
    "print(\"the predicted value for age \",x_value,\" is \",y_value)   "
   ]
  },
  {
   "cell_type": "code",
   "execution_count": null,
   "id": "0d51021a",
   "metadata": {},
   "outputs": [],
   "source": []
  }
 ],
 "metadata": {
  "kernelspec": {
   "display_name": "Python 3 (ipykernel)",
   "language": "python",
   "name": "python3"
  },
  "language_info": {
   "codemirror_mode": {
    "name": "ipython",
    "version": 3
   },
   "file_extension": ".py",
   "mimetype": "text/x-python",
   "name": "python",
   "nbconvert_exporter": "python",
   "pygments_lexer": "ipython3",
   "version": "3.9.12"
  }
 },
 "nbformat": 4,
 "nbformat_minor": 5
}
