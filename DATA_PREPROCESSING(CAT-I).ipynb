{
 "cells": [
  {
   "cell_type": "markdown",
   "id": "6030edc0",
   "metadata": {},
   "source": [
    "# DATA PREPROCESSING USING STOCK PRICE DATASET"
   ]
  },
  {
   "cell_type": "markdown",
   "id": "898854af",
   "metadata": {},
   "source": [
    "# Importing Libraries"
   ]
  },
  {
   "cell_type": "code",
   "execution_count": 28,
   "id": "a1ab7d41",
   "metadata": {},
   "outputs": [],
   "source": [
    "import numpy as np\n",
    "import pandas as pd\n",
    "from sklearn.impute import SimpleImputer\n",
    "from sklearn.model_selection import train_test_split\n",
    "from sklearn.preprocessing import LabelEncoder\n",
    "from sklearn.preprocessing import StandardScaler\n",
    "from sklearn.compose import ColumnTransformer"
   ]
  },
  {
   "cell_type": "markdown",
   "id": "8f51c513",
   "metadata": {},
   "source": [
    "# Importing Dataset"
   ]
  },
  {
   "cell_type": "code",
   "execution_count": 29,
   "id": "e1178ce2",
   "metadata": {},
   "outputs": [
    {
     "data": {
      "text/html": [
       "<div>\n",
       "<style scoped>\n",
       "    .dataframe tbody tr th:only-of-type {\n",
       "        vertical-align: middle;\n",
       "    }\n",
       "\n",
       "    .dataframe tbody tr th {\n",
       "        vertical-align: top;\n",
       "    }\n",
       "\n",
       "    .dataframe thead th {\n",
       "        text-align: right;\n",
       "    }\n",
       "</style>\n",
       "<table border=\"1\" class=\"dataframe\">\n",
       "  <thead>\n",
       "    <tr style=\"text-align: right;\">\n",
       "      <th></th>\n",
       "      <th>Date</th>\n",
       "      <th>Open</th>\n",
       "      <th>High</th>\n",
       "      <th>Low</th>\n",
       "      <th>Close</th>\n",
       "      <th>Adj Close</th>\n",
       "      <th>Volume</th>\n",
       "    </tr>\n",
       "  </thead>\n",
       "  <tbody>\n",
       "    <tr>\n",
       "      <th>0</th>\n",
       "      <td>29-06-2010</td>\n",
       "      <td>19.0</td>\n",
       "      <td>25.00</td>\n",
       "      <td>17.540001</td>\n",
       "      <td>23.889999</td>\n",
       "      <td>23.889999</td>\n",
       "      <td>18766300.0</td>\n",
       "    </tr>\n",
       "    <tr>\n",
       "      <th>1</th>\n",
       "      <td>30-06-2010</td>\n",
       "      <td>NaN</td>\n",
       "      <td>30.42</td>\n",
       "      <td>23.299999</td>\n",
       "      <td>23.830000</td>\n",
       "      <td>23.830000</td>\n",
       "      <td>17187100.0</td>\n",
       "    </tr>\n",
       "    <tr>\n",
       "      <th>2</th>\n",
       "      <td>01-07-2010</td>\n",
       "      <td>25.0</td>\n",
       "      <td>NaN</td>\n",
       "      <td>20.270000</td>\n",
       "      <td>21.959999</td>\n",
       "      <td>21.959999</td>\n",
       "      <td>8218800.0</td>\n",
       "    </tr>\n",
       "    <tr>\n",
       "      <th>3</th>\n",
       "      <td>02-07-2010</td>\n",
       "      <td>23.0</td>\n",
       "      <td>23.10</td>\n",
       "      <td>18.709999</td>\n",
       "      <td>19.200001</td>\n",
       "      <td>19.200001</td>\n",
       "      <td>5139800.0</td>\n",
       "    </tr>\n",
       "    <tr>\n",
       "      <th>4</th>\n",
       "      <td>06-07-2010</td>\n",
       "      <td>20.0</td>\n",
       "      <td>20.00</td>\n",
       "      <td>15.830000</td>\n",
       "      <td>NaN</td>\n",
       "      <td>16.110001</td>\n",
       "      <td>6866900.0</td>\n",
       "    </tr>\n",
       "  </tbody>\n",
       "</table>\n",
       "</div>"
      ],
      "text/plain": [
       "         Date  Open   High        Low      Close  Adj Close      Volume\n",
       "0  29-06-2010  19.0  25.00  17.540001  23.889999  23.889999  18766300.0\n",
       "1  30-06-2010   NaN  30.42  23.299999  23.830000  23.830000  17187100.0\n",
       "2  01-07-2010  25.0    NaN  20.270000  21.959999  21.959999   8218800.0\n",
       "3  02-07-2010  23.0  23.10  18.709999  19.200001  19.200001   5139800.0\n",
       "4  06-07-2010  20.0  20.00  15.830000        NaN  16.110001   6866900.0"
      ]
     },
     "execution_count": 29,
     "metadata": {},
     "output_type": "execute_result"
    }
   ],
   "source": [
    "df=pd.read_csv('newyork.xlsx.csv')\n",
    "df.head()"
   ]
  },
  {
   "cell_type": "code",
   "execution_count": 30,
   "id": "351258e6",
   "metadata": {},
   "outputs": [
    {
     "name": "stdout",
     "output_type": "stream",
     "text": [
      "<class 'pandas.core.frame.DataFrame'>\n",
      "RangeIndex: 2416 entries, 0 to 2415\n",
      "Data columns (total 7 columns):\n",
      " #   Column     Non-Null Count  Dtype  \n",
      "---  ------     --------------  -----  \n",
      " 0   Date       2416 non-null   object \n",
      " 1   Open       2413 non-null   float64\n",
      " 2   High       2412 non-null   float64\n",
      " 3   Low        2413 non-null   float64\n",
      " 4   Close      2412 non-null   float64\n",
      " 5   Adj Close  2415 non-null   float64\n",
      " 6   Volume     2414 non-null   float64\n",
      "dtypes: float64(6), object(1)\n",
      "memory usage: 132.2+ KB\n"
     ]
    }
   ],
   "source": [
    "df.info()"
   ]
  },
  {
   "cell_type": "code",
   "execution_count": 31,
   "id": "d42da311",
   "metadata": {},
   "outputs": [
    {
     "data": {
      "text/html": [
       "<div>\n",
       "<style scoped>\n",
       "    .dataframe tbody tr th:only-of-type {\n",
       "        vertical-align: middle;\n",
       "    }\n",
       "\n",
       "    .dataframe tbody tr th {\n",
       "        vertical-align: top;\n",
       "    }\n",
       "\n",
       "    .dataframe thead th {\n",
       "        text-align: right;\n",
       "    }\n",
       "</style>\n",
       "<table border=\"1\" class=\"dataframe\">\n",
       "  <thead>\n",
       "    <tr style=\"text-align: right;\">\n",
       "      <th></th>\n",
       "      <th>Open</th>\n",
       "      <th>High</th>\n",
       "      <th>Low</th>\n",
       "      <th>Close</th>\n",
       "      <th>Adj Close</th>\n",
       "      <th>Volume</th>\n",
       "    </tr>\n",
       "  </thead>\n",
       "  <tbody>\n",
       "    <tr>\n",
       "      <th>count</th>\n",
       "      <td>2413.000000</td>\n",
       "      <td>2412.000000</td>\n",
       "      <td>2413.000000</td>\n",
       "      <td>2412.000000</td>\n",
       "      <td>2415.000000</td>\n",
       "      <td>2.414000e+03</td>\n",
       "    </tr>\n",
       "    <tr>\n",
       "      <th>mean</th>\n",
       "      <td>186.475906</td>\n",
       "      <td>189.541186</td>\n",
       "      <td>182.916457</td>\n",
       "      <td>186.676078</td>\n",
       "      <td>186.211449</td>\n",
       "      <td>5.576549e+06</td>\n",
       "    </tr>\n",
       "    <tr>\n",
       "      <th>std</th>\n",
       "      <td>118.671695</td>\n",
       "      <td>120.233121</td>\n",
       "      <td>116.657427</td>\n",
       "      <td>119.046470</td>\n",
       "      <td>118.785452</td>\n",
       "      <td>4.988098e+06</td>\n",
       "    </tr>\n",
       "    <tr>\n",
       "      <th>min</th>\n",
       "      <td>16.139999</td>\n",
       "      <td>16.629999</td>\n",
       "      <td>14.980000</td>\n",
       "      <td>15.800000</td>\n",
       "      <td>15.800000</td>\n",
       "      <td>1.185000e+05</td>\n",
       "    </tr>\n",
       "    <tr>\n",
       "      <th>25%</th>\n",
       "      <td>34.410000</td>\n",
       "      <td>34.967500</td>\n",
       "      <td>33.709999</td>\n",
       "      <td>34.417499</td>\n",
       "      <td>34.400002</td>\n",
       "      <td>1.910750e+06</td>\n",
       "    </tr>\n",
       "    <tr>\n",
       "      <th>50%</th>\n",
       "      <td>213.100006</td>\n",
       "      <td>216.760002</td>\n",
       "      <td>208.919998</td>\n",
       "      <td>213.184998</td>\n",
       "      <td>212.960007</td>\n",
       "      <td>4.582150e+06</td>\n",
       "    </tr>\n",
       "    <tr>\n",
       "      <th>75%</th>\n",
       "      <td>266.450012</td>\n",
       "      <td>270.927513</td>\n",
       "      <td>262.100006</td>\n",
       "      <td>266.865006</td>\n",
       "      <td>266.724991</td>\n",
       "      <td>7.361250e+06</td>\n",
       "    </tr>\n",
       "    <tr>\n",
       "      <th>max</th>\n",
       "      <td>673.690002</td>\n",
       "      <td>653.000000</td>\n",
       "      <td>673.520020</td>\n",
       "      <td>780.000000</td>\n",
       "      <td>780.000000</td>\n",
       "      <td>4.706500e+07</td>\n",
       "    </tr>\n",
       "  </tbody>\n",
       "</table>\n",
       "</div>"
      ],
      "text/plain": [
       "              Open         High          Low        Close    Adj Close  \\\n",
       "count  2413.000000  2412.000000  2413.000000  2412.000000  2415.000000   \n",
       "mean    186.475906   189.541186   182.916457   186.676078   186.211449   \n",
       "std     118.671695   120.233121   116.657427   119.046470   118.785452   \n",
       "min      16.139999    16.629999    14.980000    15.800000    15.800000   \n",
       "25%      34.410000    34.967500    33.709999    34.417499    34.400002   \n",
       "50%     213.100006   216.760002   208.919998   213.184998   212.960007   \n",
       "75%     266.450012   270.927513   262.100006   266.865006   266.724991   \n",
       "max     673.690002   653.000000   673.520020   780.000000   780.000000   \n",
       "\n",
       "             Volume  \n",
       "count  2.414000e+03  \n",
       "mean   5.576549e+06  \n",
       "std    4.988098e+06  \n",
       "min    1.185000e+05  \n",
       "25%    1.910750e+06  \n",
       "50%    4.582150e+06  \n",
       "75%    7.361250e+06  \n",
       "max    4.706500e+07  "
      ]
     },
     "execution_count": 31,
     "metadata": {},
     "output_type": "execute_result"
    }
   ],
   "source": [
    "df.describe()"
   ]
  },
  {
   "cell_type": "code",
   "execution_count": 32,
   "id": "4d7d3cb9",
   "metadata": {},
   "outputs": [
    {
     "data": {
      "text/plain": [
       "array([['29-06-2010', 19.0, 25.0],\n",
       "       ['30-06-2010', nan, 30.42],\n",
       "       ['01-07-2010', 25.0, nan],\n",
       "       ...,\n",
       "       ['30-01-2020', 632.419983, 650.880005],\n",
       "       ['31-01-2020', 640.0, 653.0],\n",
       "       ['03-02-2020', 673.690002, nan]], dtype=object)"
      ]
     },
     "execution_count": 32,
     "metadata": {},
     "output_type": "execute_result"
    }
   ],
   "source": [
    "x=df.iloc[:,:3].values   #independent variables\n",
    "x"
   ]
  },
  {
   "cell_type": "code",
   "execution_count": 33,
   "id": "ce8aaef0",
   "metadata": {},
   "outputs": [
    {
     "data": {
      "text/plain": [
       "array([ 23.889999,  23.83    ,  21.959999, ..., 640.809998, 650.570007,\n",
       "       780.      ])"
      ]
     },
     "execution_count": 33,
     "metadata": {},
     "output_type": "execute_result"
    }
   ],
   "source": [
    "y=df['Close'].values    #dependent variables\n",
    "y"
   ]
  },
  {
   "cell_type": "markdown",
   "id": "d86e64b7",
   "metadata": {},
   "source": [
    "# Handling Missing Data"
   ]
  },
  {
   "cell_type": "code",
   "execution_count": 34,
   "id": "c455bcb2",
   "metadata": {},
   "outputs": [
    {
     "data": {
      "text/plain": [
       "Date         0\n",
       "Open         3\n",
       "High         4\n",
       "Low          3\n",
       "Close        4\n",
       "Adj Close    1\n",
       "Volume       2\n",
       "dtype: int64"
      ]
     },
     "execution_count": 34,
     "metadata": {},
     "output_type": "execute_result"
    }
   ],
   "source": [
    "df.isnull().sum()"
   ]
  },
  {
   "cell_type": "code",
   "execution_count": 37,
   "id": "360c18ce",
   "metadata": {},
   "outputs": [
    {
     "data": {
      "text/plain": [
       "array([['29-06-2010', 19.0, 25.0],\n",
       "       ['30-06-2010', 186.47590558806465, 30.42],\n",
       "       ['01-07-2010', 25.0, 189.54118565008292],\n",
       "       ...,\n",
       "       ['30-01-2020', 632.419983, 650.880005],\n",
       "       ['31-01-2020', 640.0, 653.0],\n",
       "       ['03-02-2020', 673.690002, 189.54118565008292]], dtype=object)"
      ]
     },
     "execution_count": 37,
     "metadata": {},
     "output_type": "execute_result"
    }
   ],
   "source": [
    "#imputing by using mean strategy to fill out missing values\n",
    "imputer=SimpleImputer(missing_values=np.nan,strategy='mean')\n",
    "imputer=imputer.fit(x[:,1:3])\n",
    "x[:,1:3]=imputer.transform(x[:,1:3])\n",
    "x   "
   ]
  },
  {
   "cell_type": "markdown",
   "id": "f9030315",
   "metadata": {},
   "source": [
    "# Encoding Categorical Data"
   ]
  },
  {
   "cell_type": "code",
   "execution_count": 41,
   "id": "326c9d63",
   "metadata": {},
   "outputs": [
    {
     "name": "stdout",
     "output_type": "stream",
     "text": [
      "[[2246 19.0 25.0]\n",
      " [2319 186.47590558806465 30.42]\n",
      " [33 25.0 189.54118565008292]\n",
      " ...\n",
      " [2301 632.419983 650.880005]\n",
      " [2374 640.0 653.0]\n",
      " [166 673.690002 189.54118565008292]] \n",
      " \n",
      " \n",
      " [ 110  107   71 ... 2218 2219 2220]\n"
     ]
    }
   ],
   "source": [
    "LE=LabelEncoder()\n",
    "x[:,0]=LE.fit_transform(x[:,0])\n",
    "y=LE.fit_transform(y)\n",
    "print(x,\"\\n\",\"\\n\",\"\\n\",y)"
   ]
  },
  {
   "cell_type": "markdown",
   "id": "11248c40",
   "metadata": {},
   "source": [
    "# Splitting Up of Dataset into TRAINING & TESTING Data"
   ]
  },
  {
   "cell_type": "code",
   "execution_count": 47,
   "id": "ca68eddc",
   "metadata": {},
   "outputs": [],
   "source": [
    "x_train,x_test,y_train,y_test=train_test_split(x,y,test_size=0.4,random_state=1)"
   ]
  },
  {
   "cell_type": "code",
   "execution_count": 48,
   "id": "2faa08c1",
   "metadata": {},
   "outputs": [
    {
     "name": "stdout",
     "output_type": "stream",
     "text": [
      "[[1663 352.0 353.100006]\n",
      " [1906 219.770004 222.5]\n",
      " [203 347.809998 355.0]\n",
      " ...\n",
      " [292 240.490005 242.350006]\n",
      " [185 29.950001 31.5]\n",
      " [1252 255.149994 262.459991]] \n",
      "\n",
      "\n",
      " [[756 29.309999 29.940001]\n",
      " [1446 241.389999 241.550003]\n",
      " [928 364.48999 368.76001]\n",
      " ...\n",
      " [107 207.330002 209.350006]\n",
      " [136 313.950012 316.839996]\n",
      " [552 31.6 32.009998]]\n"
     ]
    }
   ],
   "source": [
    "print(x_train,\"\\n\\n\\n\",x_test) "
   ]
  },
  {
   "cell_type": "code",
   "execution_count": 49,
   "id": "5fd49a8b",
   "metadata": {},
   "outputs": [
    {
     "name": "stdout",
     "output_type": "stream",
     "text": [
      "[2015 1171 2085 ... 1366  344 1587] \n",
      "\n",
      "\n",
      " [ 337 1340 2154  137 1479 1991 1178  946 1028 1749 2182  502 2162  378\n",
      " 1689 1578  161  535  773  399 1536 1720  424   61    3 2038 1281  456\n",
      " 1746   85  339 2049 2111 1455  306 1445  976 1911 1611  522  459  892\n",
      " 2193  152 2221  174  417  922  806  496 1512 1513 1267 1482 1966 1040\n",
      " 1424 1008  977  368  779 1936 1889  308 1670 1022  459  682  106 1797\n",
      " 1884  407  591  840 1275  975  947 2026   23 1564 1014 1335 1180  563\n",
      " 1545  882  464   47 1398 1042  933 1843 1983  524   30 2132 1572 2116\n",
      "  697 1962 1734 1484 1528  512 1021 1939 1897 1975  539  479 2091  531\n",
      " 1167 1620  710  366 1541 1643 1131  899   44 1799  284  125  569  365\n",
      " 1094 1521  448   34 1209 2144 1187 1657 1566  540 1601   55  791 1111\n",
      " 1200 1496 1497   45 1658  350 1394 1568  347 1519  359 1019  555 1448\n",
      " 1313  410  770 1968  572 1906 1209 1458  866 2069  646 1602  172  904\n",
      " 1829 1785 1220  322  777  153  530 1250  321 2017 1367  124 1441 1304\n",
      "  255  182 1996 1488  516 1143  626  856 2217 1943 2074  746  671 1530\n",
      "  627  980 1337 1668  839  720 1207  529  898 1924  912 1972  652 1878\n",
      " 1965  914  279  857 1031  287  486  631 1928  610 1127 1562  558 1018\n",
      "  725  257 1986  757 1175 1011 1310 1933 1146 2220 2005  633  272  109\n",
      " 1440  217  167 1269  643  955 1064 1230 1473  666 1993 2053 1066  618\n",
      "  664  937  192 2159 1206  463 1717 1799 2148  513  814  597 2041  748\n",
      "  210  239  575 1715  570 1733  250 1274 1471 2195 1056  844 1302 1263\n",
      "  544  722 1396  651 1533  686 2105  764  209  741  708  210 1255  494\n",
      "   72  536 1290  179  210  432 2120 2034 1339   46 1732  861  795 1055\n",
      " 1034  996  130 1586  295 1771 1584  210 2068  837 1033 1235  357  974\n",
      " 2032 1053 2042 1949  208  418 2211 1233 2092  843  323 1080 1189  354\n",
      "  362  363  273 1027 1959 1846 1802  880  451 1567  453 2219  693 1937\n",
      " 1034 1745 1702  280 1319  702 1219 1049 1457 1059 1395  541  951 1113\n",
      " 1736 1796 1267 1618  276 2058 1437  197 2205  726 2097 2163  601  838\n",
      "  454 1495  329  254 1544  628 1671 1514  267 1518 1847 1706  113 2218\n",
      "  821 1848 1737  352 1192 1942 1600  886  852  426  223  897  422  313\n",
      "  860  377  711 1210 1852  566 1173 1868  148  343   76  727 2083  158\n",
      "  118 1168  234 1489 1000 2192 2054 2031 1130 2036 2120   66   54 1490\n",
      " 1559 1929  507 2059  878  584 1060  754 1798  760 1438  639  605  444\n",
      "  356 1050 1784  264  445  348  102 1963  484 1426 1735 2153  849 1395\n",
      "  269 1452 1779  492   39  104 1092  184  146  827 2128 1740  107  218\n",
      "  703 1428  636 1292  218  913  487 1045  412   89  356 1422  798  490\n",
      " 1571  177 1334 1561 1804   64  987 1299 2180 2184 1800  421 2033 1381\n",
      "  599  142 1725 1623 1688  638 1054 1052 1481 2040 2196  828 1851  783\n",
      "  502 2018 1044  239 2011 1880 1946 1887  263 1651   82  388  500   14\n",
      " 1157 1590 2108 1723 2043 1204  221 1678 1738 1718  280 1079 1639  289\n",
      "  281 1043 1957 1752  891  364  157  787 1744 1244  136  255 1769  769\n",
      " 1349 1516  455  354  715  907  911 1964 1865  921 1526   70  842 1346\n",
      "  485 1509 2164 1332 1923 1716  847  577    1  841  868  483  324 1676\n",
      "  989 1938 1123 1767 1205 1293 1886  700  598  286 1870 1121 1821  734\n",
      " 1026 1216  658 1084 1480 1731  567 1748   36 1640   39 1183 1525 1015\n",
      " 1763  108  964 1446  211  232 1837 1904  985 1523 2172  642  953  457\n",
      "  772  382  163  505 1215  294 1994  907  476 1626  846 1234  243 1363\n",
      "  498 1303  768 1431 1985 1418  573 2165 1894  799 1648 1265  938 2161\n",
      " 1378 1761   12 1543 1833 1994  677  931 1912  817 1159  952  241  193\n",
      " 1677  889 1296 2158 1435 1877 2055 1953  962 1862 1322  960 2175 1403\n",
      " 1241  679 1023 1278 1389  873 1778 1211  384   53  316 1665 1004 1280\n",
      " 1249 1231  159 1494  314  696 1169 1945  956 1714 2079  154 1343 2067\n",
      " 1824  225  449  120 2112 1288 1419 1166  554 1793 1892  266  743 1712\n",
      " 1518 1058 1100 1047  611 1684  493 1162 1719 1057 1087  219  188   91\n",
      "  959 1358 2134  934  291 1095 1283 1622 1467 1687 2094  155  376 2095\n",
      " 1984  637  755   16 1839 1069  816  568  246  311  481  826  981 1450\n",
      "  279  218  548 1934 1456  984  328   88  262 2188   97 1272   28  781\n",
      " 1826 1436  635 1253 1805 1827 1258  319  596  318   48 1917 1405  553\n",
      " 1791  334  290  514 1741  275 1286  994 2046 1078 2124 1605  305 1388\n",
      " 1492 1857  482 1362 1773  261  803 1001 1406 1068  234 1809 1607 1116\n",
      "  744  341 1747 1197  127  499  617 1320 1947 1216 1789   22  224 1531\n",
      "   57  663 1597 1505  202 1952 2213  829 1266  464  508  449 1217  265\n",
      "  712 1356  438   97 1790  100 1243  375 1551  993  887 1625 1093 1401\n",
      " 1961  625  737 1654 2147  909 1659  550 1612 2050  824 1369 1849  547\n",
      " 2189  165  199 2104   21 2166 1782  147 1629 1271 1989 1139 2103 1971\n",
      "  537 1032 1409 1222 1365 1915  100  762 2089 1675  123 2207  285 2179\n",
      "  407  854 1433 1760 1722 1318 1696 2094 1801 1297   49  259  480  315\n",
      "  835  745 2187 1415 1119 1091  681  458  474 1834  110 1898 1067  191\n",
      " 1527 1485 2039  115 1262  373  371 1404 1106  469  421  669 2169  385\n",
      " 1540 1354  240  622 1451  581  501 2060    5 1317 1860  935  963 1783\n",
      "  400]\n"
     ]
    }
   ],
   "source": [
    "print(y_train,\"\\n\\n\\n\",y_test) "
   ]
  },
  {
   "cell_type": "markdown",
   "id": "4a70340a",
   "metadata": {},
   "source": [
    "# Feature Scaling"
   ]
  },
  {
   "cell_type": "code",
   "execution_count": 56,
   "id": "9ce33fa8",
   "metadata": {},
   "outputs": [],
   "source": [
    "sc=StandardScaler()   #rescales the values from -1 to 1\n",
    "x_train[:,1:]=sc.fit_transform(x_train[:,1:])\n",
    "x_test[:,1:]=sc.fit_transform(x_test[:,1:])"
   ]
  },
  {
   "cell_type": "code",
   "execution_count": 57,
   "id": "dcc6c0f1",
   "metadata": {},
   "outputs": [
    {
     "name": "stdout",
     "output_type": "stream",
     "text": [
      "[[1663 1.4130550909113442 1.3713719067844863]\n",
      " [1906 0.29394282568133395 0.28430678415005795]\n",
      " [203 1.377593525673618 1.3871867392173016]\n",
      " ...\n",
      " [292 0.46930399906197956 0.44953073679431854]\n",
      " [185 -1.312575362092772 -1.3055050756072522]\n",
      " [1252 0.5933770081698148 0.6169186564411332]] \n",
      "\n",
      "\n",
      " [[756 -1.3369803761155625 -1.344526961461553]\n",
      " [1446 0.4427592542302612 0.4183128699237334]\n",
      " [928 1.4757936397353264 1.4780494852582065]\n",
      " ...\n",
      " [107 0.1569334975801299 0.15006733925129048]\n",
      " [136 1.0516706589572897 1.0455242366393735]\n",
      " [552 -1.317763073525825 -1.3272826293035291]]\n"
     ]
    }
   ],
   "source": [
    "print(x_train,\"\\n\\n\\n\",x_test)"
   ]
  },
  {
   "cell_type": "code",
   "execution_count": null,
   "id": "177c8152",
   "metadata": {},
   "outputs": [],
   "source": []
  }
 ],
 "metadata": {
  "kernelspec": {
   "display_name": "Python 3 (ipykernel)",
   "language": "python",
   "name": "python3"
  },
  "language_info": {
   "codemirror_mode": {
    "name": "ipython",
    "version": 3
   },
   "file_extension": ".py",
   "mimetype": "text/x-python",
   "name": "python",
   "nbconvert_exporter": "python",
   "pygments_lexer": "ipython3",
   "version": "3.9.12"
  }
 },
 "nbformat": 4,
 "nbformat_minor": 5
}
